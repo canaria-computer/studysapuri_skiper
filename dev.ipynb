{
 "cells": [
  {
   "attachments": {},
   "cell_type": "markdown",
   "metadata": {},
   "source": [
    "# スタサプRPA"
   ]
  },
  {
   "cell_type": "code",
   "execution_count": 1,
   "metadata": {},
   "outputs": [
    {
     "data": {
      "text/plain": [
       "True"
      ]
     },
     "execution_count": 1,
     "metadata": {},
     "output_type": "execute_result"
    }
   ],
   "source": [
    "# selenium 4\n",
    "import math\n",
    "import time\n",
    "import os\n",
    "import gc\n",
    "from selenium import webdriver\n",
    "from selenium.webdriver.support.wait import WebDriverWait\n",
    "from selenium.webdriver.support.wait import TimeoutException\n",
    "from selenium.webdriver.support import expected_conditions\n",
    "from selenium.webdriver.firefox.service import Service as FirefoxService\n",
    "from webdriver_manager.firefox import GeckoDriverManager\n",
    "\n",
    "os.environ['WDM_SSL_VERIFY'] = '0'\n",
    "\n",
    "# import selenium.webdriver.common.devtools.v114 as devtools\n",
    "from selenium.webdriver.common.by import By\n",
    "\n",
    "# .env file load\n",
    "from dotenv import load_dotenv\n",
    "\n",
    "load_dotenv()"
   ]
  },
  {
   "attachments": {},
   "cell_type": "markdown",
   "metadata": {},
   "source": [
    "# クラス作成"
   ]
  },
  {
   "cell_type": "code",
   "execution_count": 6,
   "metadata": {},
   "outputs": [],
   "source": [
    "class StudysapuriSkip:\n",
    "    def __init__(self, continue_login=True) -> None:\n",
    "        self.options = webdriver.FirefoxOptions()\n",
    "        # options.add_argument('--headless')\n",
    "\n",
    "        self.driver = webdriver.Firefox(\n",
    "            service=FirefoxService(GeckoDriverManager().install()), options=self.options\n",
    "        )\n",
    "\n",
    "        self.driver.set_window_position(0, 0)\n",
    "        self.original_window = self.driver.current_window_handle\n",
    "        self.load_credential()\n",
    "\n",
    "        self._studysapuri_uri_dict = {\n",
    "            \"homework_active\": \"https://learn.studysapuri.jp/ja/todos/active\",\n",
    "            \"homework_expired\": \"https://learn.studysapuri.jp/ja/todos/expired\",\n",
    "        }\n",
    "\n",
    "        self.load_timeout_config()\n",
    "        if continue_login:\n",
    "            try:\n",
    "                self.login()\n",
    "                self.count_task()\n",
    "            except TimeoutException as err:\n",
    "                print(err)\n",
    "                self.driver.get(\"data:text,Login failed.\")\n",
    "            else:\n",
    "                print(\"Login Successful\")\n",
    "\n",
    "        self.__tab = []\n",
    "\n",
    "\n",
    "    def load_timeout_config(self) -> None:\n",
    "        self.timeout = os.getenv(\"TIMEOUT_SEC\")\n",
    "        if self.timeout == None:\n",
    "            self.timeout = 20\n",
    "        else:\n",
    "            self.timeout = float(self.timeout)\n",
    "\n",
    "    def load_credential(self) -> None:\n",
    "        self.service_url = os.getenv(\"LOGIN_URL\")\n",
    "        self.__email = os.getenv(\"EMAIL_ADDRESS\")\n",
    "        self.__password = os.getenv(\"PASSWORD\")\n",
    "\n",
    "        # 環境変数未設定時\n",
    "        if self.__email == None:\n",
    "            print(\"Your ID is None.\")\n",
    "            self.__email = input(\"Please input ID or email:\")\n",
    "\n",
    "        if self.__password == None:\n",
    "            print(\"Your PASSWORD is None.\")\n",
    "            self.__password = input(\"Please input password:\")\n",
    "\n",
    "    def release_credential(self):\n",
    "        self.__email = self.__password = None\n",
    "\n",
    "    def login(self):\n",
    "        self.driver.get(self.service_url)\n",
    "        self.username_input_element = self.driver.find_element(\n",
    "            by=By.XPATH, value='//*[@id=\"root\"]/div/div/div/form/div/div[2]/input'\n",
    "        )\n",
    "        self.password_input_element = self.driver.find_element(\n",
    "            by=By.XPATH, value='//*[@id=\"root\"]/div/div/div/form/div/div[3]/span/input'\n",
    "        )\n",
    "        self.login_button = self.driver.find_element(\n",
    "            by=By.XPATH, value='//*[@id=\"root\"]/div/div/div/form/div/button[2]/span[2]'\n",
    "        )\n",
    "        # ----------------------------------\n",
    "        self.username_input_element.clear()\n",
    "        self.password_input_element.clear()\n",
    "        self.username_input_element.send_keys(self.__email)\n",
    "        self.password_input_element.send_keys(self.__password)\n",
    "        time.sleep(0.5)\n",
    "        self.login_button.click()\n",
    "\n",
    "    def count_task(self):\n",
    "        self.driver.get(self._studysapuri_uri_dict[\"homework_active\"])\n",
    "        WebDriverWait(self.driver, timeout=self.timeout).until(\n",
    "            lambda d: d.find_elements(\n",
    "                by=By.CSS_SELECTOR, value=\"[class*=BasicTemplate__Body]\")\n",
    "        )\n",
    "        try:\n",
    "            self.is_active_homework_empty = WebDriverWait(\n",
    "                self.driver, timeout=4\n",
    "            ).until(lambda d: d.find_elements(by=By.CSS_SELECTOR, value=\"div > ul li > button\"))\n",
    "        except TimeoutException as err:\n",
    "            self.is_active_homework_empty = []\n",
    "\n",
    "        self.driver.get(self._studysapuri_uri_dict[\"homework_expired\"])\n",
    "        WebDriverWait(self.driver, timeout=self.timeout).until(\n",
    "            lambda d: d.find_elements(\n",
    "                by=By.CSS_SELECTOR, value=\"[class*=BasicTemplate__Body]\")\n",
    "        )\n",
    "        try:\n",
    "            self.is_expired_homework_empty = WebDriverWait(\n",
    "                self.driver, timeout=4\n",
    "            ).until(lambda d: d.find_elements(by=By.CSS_SELECTOR, value=\"div > ul li > button\"))\n",
    "        except TimeoutException as err:\n",
    "            self.is_expired_homework_empty = []\n",
    "\n",
    "        print(\n",
    "            f\"配信中の課題{len(self.is_active_homework_empty)}\",\n",
    "            f\"期限切れ{len(self.is_expired_homework_empty)}\"\n",
    "        )\n",
    "\n",
    "        return {\n",
    "            \"active_homework\": len(self.is_active_homework_empty),\n",
    "            \"expired_homework\": len(self.is_expired_homework_empty)\n",
    "        }\n",
    "\n",
    "    def first_taskwork_open(self):\n",
    "        WebDriverWait(self.driver, timeout=self.timeout*2).until(\n",
    "            lambda d: d.find_element(\n",
    "                By.CSS_SELECTOR, 'button[class*=\"TodoCard\"]'\n",
    "            )\n",
    "        )\n",
    "        self.first_taskwork = self.driver.find_element(\n",
    "            By.CSS_SELECTOR, value='button[class*=\"TodoCard\"]'\n",
    "        )\n",
    "        self.first_taskwork.click()\n",
    "\n",
    "        WebDriverWait(self.driver, timeout=self.timeout*5).until(\n",
    "            expected_conditions.presence_of_all_elements_located(\n",
    "                (By.CSS_SELECTOR, 'span[class*=isIncomplete]')\n",
    "            )\n",
    "        )\n",
    "\n",
    "        self.first_todo = self.driver.find_element(\n",
    "            By.CSS_SELECTOR, value='span[class*=isIncomplete]'\n",
    "        )\n",
    "        f = open(\"JS/incompleteClick.js\", \"r\")\n",
    "        try:\n",
    "            self.driver.execute_script(f.read())\n",
    "        except:\n",
    "            print(\"An error has occurred.\")\n",
    "        finally:\n",
    "            f.close()\n",
    "            print(\"file resource released.\")\n",
    "\n",
    "    def process_todo(self):\n",
    "        self.driver\n",
    "\n",
    "        "
   ]
  },
  {
   "cell_type": "code",
   "execution_count": 3,
   "metadata": {},
   "outputs": [
    {
     "name": "stderr",
     "output_type": "stream",
     "text": [
      "c:\\Python311\\Lib\\site-packages\\urllib3\\connectionpool.py:1095: InsecureRequestWarning: Unverified HTTPS request is being made to host 'api.github.com'. Adding certificate verification is strongly advised. See: https://urllib3.readthedocs.io/en/latest/advanced-usage.html#tls-warnings\n",
      "  warnings.warn(\n",
      "[WDM] - Downloading: 17.8kB [00:00, 18.8MB/s]                   \n",
      "c:\\Python311\\Lib\\site-packages\\urllib3\\connectionpool.py:1095: InsecureRequestWarning: Unverified HTTPS request is being made to host 'api.github.com'. Adding certificate verification is strongly advised. See: https://urllib3.readthedocs.io/en/latest/advanced-usage.html#tls-warnings\n",
      "  warnings.warn(\n",
      "c:\\Python311\\Lib\\site-packages\\urllib3\\connectionpool.py:1095: InsecureRequestWarning: Unverified HTTPS request is being made to host 'github.com'. Adding certificate verification is strongly advised. See: https://urllib3.readthedocs.io/en/latest/advanced-usage.html#tls-warnings\n",
      "  warnings.warn(\n",
      "c:\\Python311\\Lib\\site-packages\\urllib3\\connectionpool.py:1095: InsecureRequestWarning: Unverified HTTPS request is being made to host 'objects.githubusercontent.com'. Adding certificate verification is strongly advised. See: https://urllib3.readthedocs.io/en/latest/advanced-usage.html#tls-warnings\n",
      "  warnings.warn(\n",
      "[WDM] - Downloading: 100%|██████████| 1.59M/1.59M [00:00<00:00, 5.50MB/s]\n"
     ]
    },
    {
     "name": "stdout",
     "output_type": "stream",
     "text": [
      "配信中の課題0 期限切れ20\n",
      "Login Successful\n"
     ]
    }
   ],
   "source": [
    "instans = StudysapuriSkip()"
   ]
  },
  {
   "cell_type": "code",
   "execution_count": 5,
   "metadata": {},
   "outputs": [],
   "source": [
    "print(\"30s 後に終了します。\")\n",
    "time.sleep(30)\n",
    "instans.driver.quit()"
   ]
  }
 ],
 "metadata": {
  "kernelspec": {
   "display_name": "Python 3",
   "language": "python",
   "name": "python3"
  },
  "language_info": {
   "codemirror_mode": {
    "name": "ipython",
    "version": 3
   },
   "file_extension": ".py",
   "mimetype": "text/x-python",
   "name": "python",
   "nbconvert_exporter": "python",
   "pygments_lexer": "ipython3",
   "version": "3.11.4"
  },
  "orig_nbformat": 4
 },
 "nbformat": 4,
 "nbformat_minor": 2
}
