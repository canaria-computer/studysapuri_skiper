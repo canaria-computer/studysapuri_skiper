{
 "cells": [
  {
   "attachments": {},
   "cell_type": "markdown",
   "metadata": {},
   "source": [
    "# スタサプRPA"
   ]
  },
  {
   "cell_type": "code",
   "execution_count": null,
   "metadata": {},
   "outputs": [],
   "source": [
    "# selenium 4\n",
    "import math\n",
    "import time\n",
    "import os\n",
    "from selenium import webdriver\n",
    "from selenium.webdriver.support.wait import WebDriverWait\n",
    "from selenium.webdriver.support.wait import TimeoutException\n",
    "from selenium.webdriver.support import expected_conditions\n",
    "from selenium.webdriver.firefox.service import Service as FirefoxService\n",
    "from webdriver_manager.firefox import GeckoDriverManager\n",
    "\n",
    "# import selenium.webdriver.common.devtools.v114 as devtools\n",
    "from selenium.webdriver.common.by import By\n",
    "\n",
    "# .env file load\n",
    "from dotenv import load_dotenv\n",
    "\n",
    "load_dotenv()"
   ]
  },
  {
   "attachments": {},
   "cell_type": "markdown",
   "metadata": {},
   "source": [
    "# クラス作成"
   ]
  },
  {
   "cell_type": "code",
   "execution_count": null,
   "metadata": {},
   "outputs": [],
   "source": [
    "class StudysapuriSkip:\n",
    "    def __init__(self) -> None:\n",
    "        self.options = webdriver.FirefoxOptions()\n",
    "        # options.add_argument('--headless')\n",
    "\n",
    "        self.driver = webdriver.Firefox(\n",
    "            service=FirefoxService(GeckoDriverManager().install()), options=self.options\n",
    "        )\n",
    "\n",
    "        self.driver.set_window_position(0, 0)\n",
    "        self.original_window = self.driver.current_window_handle\n",
    "        self.load_credential()\n",
    "\n",
    "        self._studysapuri_uri_dict = {\n",
    "            \"homework_active\": \"https://learn.studysapuri.jp/ja/todos/active\",\n",
    "            \"homework_expired\": \"https://learn.studysapuri.jp/ja/todos/expired\",\n",
    "        }\n",
    "\n",
    "        self.load_timeout_config()\n",
    "\n",
    "    def load_timeout_config(self) -> None:\n",
    "        self.timeout = os.getenv(\"TIMEOUT_SEC\")\n",
    "        if self.timeout == None:\n",
    "            self.timeout = 20\n",
    "        else:\n",
    "            self.timeout = float(self.timeout)\n",
    "\n",
    "    def load_credential(self) -> None:\n",
    "        self.service_url = os.getenv(\"LOGIN_URL\")\n",
    "        self.__email = os.getenv(\"EMAIL_ADDRESS\")\n",
    "        self.__password = os.getenv(\"PASSWORD\")\n",
    "\n",
    "        # 環境変数未設定時\n",
    "        if self.__email == None:\n",
    "            print(\"Your ID is None.\")\n",
    "            self.__email = input(\"Please input ID or email:\")\n",
    "\n",
    "        if self.__password == None:\n",
    "            print(\"Your PASSWORD is None.\")\n",
    "            self.__password = input(\"Please input password:\")\n",
    "\n",
    "    def release_credential(self):\n",
    "        self.__email = self.__password = None\n",
    "\n",
    "    def login(self):\n",
    "        self.driver.get(self.service_url)\n",
    "        self.username_input_element = self.driver.find_element(\n",
    "            by=By.XPATH, value='//*[@id=\"root\"]/div/div/div/form/div/div[2]/input'\n",
    "        )\n",
    "        self.password_input_element = self.driver.find_element(\n",
    "            by=By.XPATH, value='//*[@id=\"root\"]/div/div/div/form/div/div[3]/span/input'\n",
    "        )\n",
    "        self.login_button = self.driver.find_element(\n",
    "            by=By.XPATH, value='//*[@id=\"root\"]/div/div/div/form/div/button[2]/span[2]'\n",
    "        )\n",
    "        # ----------------------------------\n",
    "        self.username_input_element.clear()\n",
    "        self.password_input_element.clear()\n",
    "        self.username_input_element.send_keys(self.__email)\n",
    "        self.password_input_element.send_keys(self.__password)\n",
    "\n",
    "    def count_task(self):\n",
    "        self.driver.get(self._studysapuri_uri_dict[\"homework_active\"])\n",
    "        # WebDriverWait(self.driver,timeout=)"
   ]
  }
 ],
 "metadata": {
  "kernelspec": {
   "display_name": "Python 3",
   "language": "python",
   "name": "python3"
  },
  "language_info": {
   "codemirror_mode": {
    "name": "ipython",
    "version": 3
   },
   "file_extension": ".py",
   "mimetype": "text/x-python",
   "name": "python",
   "nbconvert_exporter": "python",
   "pygments_lexer": "ipython3",
   "version": "3.11.4"
  },
  "orig_nbformat": 4
 },
 "nbformat": 4,
 "nbformat_minor": 2
}
