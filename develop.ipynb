{
 "cells": [
  {
   "attachments": {},
   "cell_type": "markdown",
   "metadata": {},
   "source": [
    "# スタサプ RPA"
   ]
  },
  {
   "attachments": {},
   "cell_type": "markdown",
   "metadata": {},
   "source": [
    "## モジュール読み込み"
   ]
  },
  {
   "cell_type": "code",
   "execution_count": null,
   "metadata": {},
   "outputs": [],
   "source": [
    "# selenium 4\n",
    "import math\n",
    "import time\n",
    "import os\n",
    "from selenium import webdriver\n",
    "from selenium.webdriver.support.wait import WebDriverWait\n",
    "from selenium.webdriver.support.wait import TimeoutException\n",
    "from selenium.webdriver.support import expected_conditions\n",
    "from selenium.webdriver.firefox.service import Service as FirefoxService\n",
    "from webdriver_manager.firefox import GeckoDriverManager\n",
    "# import selenium.webdriver.common.devtools.v114 as devtools\n",
    "from selenium.webdriver.common.by import By\n",
    "# .env file load\n",
    "from dotenv import load_dotenv\n",
    "load_dotenv()"
   ]
  },
  {
   "attachments": {},
   "cell_type": "markdown",
   "metadata": {},
   "source": [
    "## インスタンスの生成\n",
    "### 実行"
   ]
  },
  {
   "cell_type": "code",
   "execution_count": null,
   "metadata": {},
   "outputs": [],
   "source": [
    "options = webdriver.FirefoxOptions()\n",
    "# options.add_argument('--headless')\n",
    "\n",
    "driver = webdriver.Firefox(service=FirefoxService(\n",
    "    GeckoDriverManager().install()), options=options)\n",
    "\n",
    "driver.set_window_position(0, 0)\n",
    "original_window = driver.current_window_handle\n"
   ]
  },
  {
   "attachments": {},
   "cell_type": "markdown",
   "metadata": {},
   "source": [
    "### .env 読み込み"
   ]
  },
  {
   "cell_type": "code",
   "execution_count": null,
   "metadata": {},
   "outputs": [],
   "source": [
    "service_url = os.getenv(\"LOGIN_URL\")\n",
    "email = os.getenv(\"EMAIL_ADDRESS\")\n",
    "password = os.getenv(\"PASSWORD\")"
   ]
  },
  {
   "cell_type": "code",
   "execution_count": null,
   "metadata": {},
   "outputs": [],
   "source": [
    "# 環境変数未設定時\n",
    "if email == None:\n",
    "    print(\"Your ID is None.\")\n",
    "    email = input(\"Please input ID or email:\")\n",
    "\n",
    "if password == None:\n",
    "    print(\"Your PASSWORD is None.\")\n",
    "    password = input(\"Please input password:\")\n"
   ]
  },
  {
   "attachments": {},
   "cell_type": "markdown",
   "metadata": {},
   "source": [
    "時刻測定用"
   ]
  },
  {
   "cell_type": "code",
   "execution_count": null,
   "metadata": {},
   "outputs": [],
   "source": [
    "start_time = time.perf_counter()"
   ]
  },
  {
   "attachments": {},
   "cell_type": "markdown",
   "metadata": {},
   "source": [
    "### ログイン"
   ]
  },
  {
   "cell_type": "code",
   "execution_count": null,
   "metadata": {},
   "outputs": [],
   "source": [
    "driver.get(service_url)\n",
    "username_input_element = driver.find_element(\n",
    "    by=By.XPATH, value='//*[@id=\"root\"]/div/div/div/form/div/div[2]/input')\n",
    "password_input_element = driver.find_element(\n",
    "    by=By.XPATH, value='//*[@id=\"root\"]/div/div/div/form/div/div[3]/span/input')\n",
    "login_button = driver.find_element(\n",
    "    by=By.XPATH, value='//*[@id=\"root\"]/div/div/div/form/div/button[2]/span[2]')\n",
    "\n",
    "username_input_element.clear()\n",
    "password_input_element.clear()\n",
    "username_input_element.send_keys(email)\n",
    "password_input_element.send_keys(password)\n",
    "email, password = None, None\n",
    "login_button.click()\n"
   ]
  },
  {
   "attachments": {},
   "cell_type": "markdown",
   "metadata": {},
   "source": [
    "### URL を設定"
   ]
  },
  {
   "cell_type": "code",
   "execution_count": null,
   "metadata": {},
   "outputs": [],
   "source": [
    "studysapuri_uri_dict = {\n",
    "    \"homework_active\": \"https://learn.studysapuri.jp/ja/todos/active\",\n",
    "    \"homework_expired\": \"https://learn.studysapuri.jp/ja/todos/expired\",\n",
    "}\n"
   ]
  },
  {
   "attachments": {},
   "cell_type": "markdown",
   "metadata": {},
   "source": [
    "### 課題状況検査\n",
    "\n",
    "課題の残りの数をカウントする"
   ]
  },
  {
   "attachments": {},
   "cell_type": "markdown",
   "metadata": {},
   "source": [
    "残りの課題の数を調べる"
   ]
  },
  {
   "cell_type": "code",
   "execution_count": null,
   "metadata": {},
   "outputs": [],
   "source": [
    "def count_task() -> dict:\n",
    "    global driver\n",
    "    driver.get(studysapuri_uri_dict[\"homework_active\"])\n",
    "    WebDriverWait(driver, timeout=10).until(\n",
    "        lambda d: d.find_elements(\n",
    "            by=By.CSS_SELECTOR, value=\"[class*=BasicTemplate__Body]\")\n",
    "    )\n",
    "\n",
    "    try:\n",
    "        is_active_homework_empty = WebDriverWait(driver, timeout=4).until(\n",
    "            lambda d: d.find_elements(\n",
    "                by=By.CSS_SELECTOR, value=\"div > ul li > button\")\n",
    "        )\n",
    "    except TimeoutException as err:\n",
    "        is_active_homework_empty = []\n",
    "\n",
    "    # -------------------------------------------------------------------\n",
    "\n",
    "    driver.get(studysapuri_uri_dict[\"homework_expired\"])\n",
    "    WebDriverWait(driver, timeout=4).until(\n",
    "        lambda d: d.find_elements(\n",
    "            by=By.CSS_SELECTOR, value=\"[class*=BasicTemplate__Body]\")\n",
    "    )\n",
    "\n",
    "    try:\n",
    "        is_expired_homework_empty = WebDriverWait(driver, timeout=4).until(\n",
    "            lambda d: d.find_elements(\n",
    "                by=By.CSS_SELECTOR, value=\"div > ul li > button\")\n",
    "        )\n",
    "    except TimeoutException as err:\n",
    "        is_expired_homework_empty = []\n",
    "    print(\n",
    "        f\"配信中の課題{len(is_active_homework_empty)}\",\n",
    "        f\"期限切れ{len(is_expired_homework_empty)}\"\n",
    "    )\n",
    "\n",
    "    return {\n",
    "        \"active_homework\": len(is_active_homework_empty),\n",
    "        \"expired_homework\": len(is_expired_homework_empty)\n",
    "    }\n",
    "\n",
    "\n",
    "pass\n"
   ]
  },
  {
   "attachments": {},
   "cell_type": "markdown",
   "metadata": {},
   "source": [
    "最初の課題を開く処理"
   ]
  },
  {
   "cell_type": "code",
   "execution_count": null,
   "metadata": {},
   "outputs": [],
   "source": [
    "def first_taskwork_open():\n",
    "    timeout_sec = 20\n",
    "    WebDriverWait(driver, timeout=timeout_sec).until(\n",
    "        lambda d: d.find_element(\n",
    "            by=By.CSS_SELECTOR, value='button[class*=\"TodoCard\"]'\n",
    "        )\n",
    "    )\n",
    "    first_taskwork = driver.find_element(\n",
    "        by=By.CSS_SELECTOR, value='button[class*=\"TodoCard\"]')\n",
    "    first_taskwork.click()\n",
    "\n",
    "    WebDriverWait(driver, timeout=100).until(\n",
    "        expected_conditions\n",
    "        .presence_of_element_located((By.CSS_SELECTOR, 'span[class*=isIncomplete]'))\n",
    "    )\n",
    "    # WebDriverWait(driver, timeout=timeout_sec).until(\n",
    "    #     lambda d: d.find_element(\n",
    "    #         by=By.CSS_SELECTOR, value='span[class*=isIncomplete]'\n",
    "    #     )\n",
    "    # )\n",
    "    first_todo = driver.find_element(\n",
    "        by=By.CSS_SELECTOR, value='span[class*=isIncomplete]')\n",
    "    f = open(\"JS/incompleteClick.js\",\"r\")\n",
    "    driver.execute_script(f.read())\n",
    "    f.close()\n",
    "    # first_todo.click()"
   ]
  },
  {
   "attachments": {},
   "cell_type": "markdown",
   "metadata": {},
   "source": [
    "開かれた課題を実行する処理"
   ]
  },
  {
   "cell_type": "code",
   "execution_count": null,
   "metadata": {
    "tags": []
   },
   "outputs": [],
   "source": [
    "call_count = 0\n",
    "\n",
    "\n",
    "def process_todo():\n",
    "    global driver\n",
    "    tab = []\n",
    "\n",
    "    def sub_tab_all_close() -> None:\n",
    "        for t in tab:\n",
    "            driver.switch_to.window(t)\n",
    "            driver.close()\n",
    "\n",
    "    def quession_automation() -> None:\n",
    "        print(\"Call quession_automation\")\n",
    "        \"\"\"確認問題をランダムに解く\n",
    "        \"\"\"\n",
    "        global call_count\n",
    "        call_count += 1\n",
    "\n",
    "        # 待機\n",
    "        button = WebDriverWait(driver, timeout=10).until(\n",
    "            lambda d: d.find_element(\n",
    "                by=By.CSS_SELECTOR, value=\"[class*=RaisedButton]\")\n",
    "        )\n",
    "        if not driver.current_url.startswith(\"https://learn.studysapuri.jp/\"):\n",
    "            driver.close()\n",
    "            return\n",
    "        \n",
    "\n",
    "        print(\"Call quession_automation wait element,load and body\")\n",
    "        # 完全ロード待ち\n",
    "        WebDriverWait(driver, timeout=20).until(\n",
    "            expected_conditions.presence_of_all_elements_located)\n",
    "        while True:\n",
    "\n",
    "            # 要素待ち\n",
    "            WebDriverWait(driver, timeout=20).until(\n",
    "                lambda d: d.find_element(\n",
    "                    by=By.CSS_SELECTOR, value=\"[class*=TopicsPage__Main]  button\")\n",
    "            )\n",
    "            f = open(\"JS/autoClick.js\",\"r\",encoding='UTF-8')\n",
    "            js_file_autoClick = f.read()\n",
    "            driver.execute_script(js_file_autoClick)\n",
    "            f.close()\n",
    "            if driver.current_url.endswith(\"result\"):\n",
    "                # 本当に終了したか判定\n",
    "                checke_target_button = driver.find_elements(\n",
    "                    by=By.CSS_SELECTOR, value=\"button[class*=RaisedButton]\")\n",
    "                if checke_target_button == 0:\n",
    "                    break\n",
    "                if checke_target_button == 0 and checke_target_button[0].text != \"次の問題へ\":\n",
    "                    break\n",
    "            time.sleep(0.05)\n",
    "\n",
    "    # -----------------------------------------------------------------------------------------------\n",
    "    # 各チャプタのタブを開く\n",
    "    WebDriverWait(driver, timeout=10).until(lambda d: d.find_element(\n",
    "        by=By.CSS_SELECTOR, value='ul[class*=\"LessonStepList\"] > li > a')\n",
    "    )\n",
    "\n",
    "    after_second_lesston_list = map(lambda element: element.get_attribute(\"href\"), driver.find_elements(\n",
    "        by=By.CSS_SELECTOR, value='ul[class*=\"LessonStepList\"] > li > a'))\n",
    "\n",
    "    try:\n",
    "        for href in list(after_second_lesston_list):\n",
    "            print(tab,href)\n",
    "            driver.switch_to.new_window(\"tab\")\n",
    "            tab.append(driver.current_window_handle)\n",
    "            driver.get(href)\n",
    "            if \"questions\" in href.split(\"/\"):\n",
    "                print(href)\n",
    "                quession_automation()\n",
    "\n",
    "            # video wait\n",
    "            WebDriverWait(driver, timeout=4).until(\n",
    "                lambda d: d.find_element(\n",
    "                    by=By.TAG_NAME, value=\"video\")\n",
    "            )\n",
    "            WebDriverWait(driver, timeout=4).until(\n",
    "                lambda d: d.find_element(\n",
    "                    by=By.CSS_SELECTOR, value=\"[class*=hugereplaybutton]\")\n",
    "            )\n",
    "            f = open(\"JS/videoAutomation.js\",\"r\",encoding=\"UTF-8\")\n",
    "            command_list = f.readlines()\n",
    "            for comand in command_list:\n",
    "                driver.execute_script(comand)\n",
    "            f.close()\n",
    "            time.sleep(1)\n",
    "\n",
    "    except TimeoutException as err:\n",
    "        print(\"Timeout Err\")\n",
    "\n",
    "    for i in range(1, 30+1):\n",
    "        print(i, end=\"\\t\")\n",
    "        time.sleep(1)\n",
    "    print(tab)\n",
    "    sub_tab_all_close()\n",
    "    driver.switch_to.window(original_window)\n",
    "# -------------------------------------------\n",
    "\n",
    "driver.switch_to.window(original_window)"
   ]
  },
  {
   "cell_type": "code",
   "execution_count": null,
   "metadata": {},
   "outputs": [],
   "source": [
    "todo_homework = count_task()\n",
    "while True:\n",
    "    if todo_homework[\"active_homework\"] != 0: # 配信中の宿題の数が0でないとき\n",
    "        print(\"Processing= active_homework\")\n",
    "        driver.get(studysapuri_uri_dict[\"homework_active\"]) # ページ移動\n",
    "        first_taskwork_open()\n",
    "        process_todo()\n",
    "    elif todo_homework[\"expired_homework\"] != 0: # 期限切れのタスクを実行する\n",
    "        print(\"Processing= expired_homework\")\n",
    "        driver.get(studysapuri_uri_dict[\"homework_expired\"]) # ページ移動\n",
    "        first_taskwork_open()\n",
    "        process_todo()\n",
    "    else:\n",
    "        driver.switch_to.window(original_window)\n",
    "        break\n",
    "    todo_homework = count_task()"
   ]
  },
  {
   "attachments": {},
   "cell_type": "markdown",
   "metadata": {},
   "source": [
    "```python\n",
    "\n",
    "count_task()  # タスクの数を調べる\n",
    "first_taskwork_open()  # 宿題のページ遷移\n",
    "process_todo()  # 宿題を始める\n",
    "\n",
    "```"
   ]
  },
  {
   "cell_type": "code",
   "execution_count": null,
   "metadata": {},
   "outputs": [],
   "source": [
    "end_time = time.perf_counter()\n",
    "print(f\"{end_time-start_time} sec\")\n",
    "\n",
    "driver.quit()  # 終了fileIsolated\n"
   ]
  }
 ],
 "metadata": {
  "kernelspec": {
   "display_name": "Python 3",
   "language": "python",
   "name": "python3"
  },
  "language_info": {
   "codemirror_mode": {
    "name": "ipython",
    "version": 3
   },
   "file_extension": ".py",
   "mimetype": "text/x-python",
   "name": "python",
   "nbconvert_exporter": "python",
   "pygments_lexer": "ipython3",
   "version": "3.11.4"
  },
  "orig_nbformat": 4
 },
 "nbformat": 4,
 "nbformat_minor": 2
}
