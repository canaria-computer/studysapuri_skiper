{
 "cells": [
  {
   "attachments": {},
   "cell_type": "markdown",
   "metadata": {},
   "source": [
    "# スタサプ RPA"
   ]
  },
  {
   "attachments": {},
   "cell_type": "markdown",
   "metadata": {},
   "source": [
    "## モジュール読み込み"
   ]
  },
  {
   "cell_type": "code",
   "execution_count": 51,
   "metadata": {},
   "outputs": [
    {
     "data": {
      "text/plain": [
       "True"
      ]
     },
     "execution_count": 51,
     "metadata": {},
     "output_type": "execute_result"
    }
   ],
   "source": [
    "# selenium 4\n",
    "import math\n",
    "import time\n",
    "import os\n",
    "from selenium import webdriver\n",
    "from selenium.webdriver.support.wait import WebDriverWait\n",
    "from selenium.webdriver.support.wait import TimeoutException\n",
    "from selenium.webdriver.firefox.service import Service as FirefoxService\n",
    "from webdriver_manager.firefox import GeckoDriverManager\n",
    "import selenium.webdriver.common.devtools.v114 as devtools\n",
    "from selenium.webdriver.common.by import By\n",
    "# .env file load\n",
    "from dotenv import load_dotenv\n",
    "load_dotenv()"
   ]
  },
  {
   "attachments": {},
   "cell_type": "markdown",
   "metadata": {},
   "source": [
    "## インスタンスの生成\n",
    "### 実行"
   ]
  },
  {
   "cell_type": "code",
   "execution_count": 46,
   "metadata": {},
   "outputs": [],
   "source": [
    "options = webdriver.FirefoxOptions()\n",
    "# options.add_argument('--headless')\n",
    "\n",
    "driver = webdriver.Firefox(service=FirefoxService(\n",
    "    GeckoDriverManager().install()), options=options)\n",
    "driver.set_window_position(0, 0)\n",
    "\n",
    "original_window = driver.current_window_handle"
   ]
  },
  {
   "attachments": {},
   "cell_type": "markdown",
   "metadata": {},
   "source": [
    "### .env 読み込み"
   ]
  },
  {
   "cell_type": "code",
   "execution_count": 47,
   "metadata": {},
   "outputs": [],
   "source": [
    "service_url = os.getenv(\"LOGIN_URL\")\n",
    "email = os.getenv(\"EMAIL_ADDRESS\")\n",
    "password = os.getenv(\"PASSWORD\")"
   ]
  },
  {
   "attachments": {},
   "cell_type": "markdown",
   "metadata": {},
   "source": [
    "### ログイン"
   ]
  },
  {
   "cell_type": "code",
   "execution_count": 48,
   "metadata": {},
   "outputs": [],
   "source": [
    "driver.get(service_url)\n",
    "username_input_element = driver.find_element(\n",
    "    by=By.XPATH, value='//*[@id=\"root\"]/div/div/div/form/div/div[2]/input')\n",
    "password_input_element = driver.find_element(\n",
    "    by=By.XPATH, value='//*[@id=\"root\"]/div/div/div/form/div/div[3]/span/input')\n",
    "login_button = driver.find_element(\n",
    "    by=By.XPATH, value='//*[@id=\"root\"]/div/div/div/form/div/button[2]/span[2]')\n",
    "\n",
    "username_input_element.clear()\n",
    "password_input_element.clear()\n",
    "username_input_element.send_keys(email)\n",
    "password_input_element.send_keys(password)\n",
    "login_button.click()\n",
    "\n",
    "time.sleep(2)"
   ]
  },
  {
   "attachments": {},
   "cell_type": "markdown",
   "metadata": {},
   "source": [
    "### URL を設定"
   ]
  },
  {
   "cell_type": "code",
   "execution_count": 49,
   "metadata": {},
   "outputs": [],
   "source": [
    "studysapuri_uri_dict = {\n",
    "    \"homework_active\": \"https://learn.studysapuri.jp/ja/todos/active\",\n",
    "    \"homework_expired\": \"https://learn.studysapuri.jp/ja/todos/expired\"\n",
    "}\n"
   ]
  },
  {
   "attachments": {},
   "cell_type": "markdown",
   "metadata": {},
   "source": [
    "### 課題状況検査\n",
    "\n",
    "課題の残りの数をカウントする"
   ]
  },
  {
   "cell_type": "code",
   "execution_count": 57,
   "metadata": {},
   "outputs": [],
   "source": [
    "driver.get(studysapuri_uri_dict[\"homework_active\"])\n",
    "WebDriverWait(driver, timeout=4).until(\n",
    "    lambda d: d.find_elements(\n",
    "        by=By.CSS_SELECTOR, value=\"[class*=BasicTemplate__Body]\")\n",
    ")\n",
    "\n",
    "try:\n",
    "    is_active_homework_empty = WebDriverWait(driver, timeout=4).until(\n",
    "        lambda d: d.find_elements(\n",
    "            by=By.CSS_SELECTOR, value=\"div > ul li > button\")\n",
    "    )\n",
    "except TimeoutException as err:\n",
    "    is_active_homework_empty = []\n",
    "\n",
    "# -------------------------------------------------------------------\n",
    "\n",
    "driver.get(studysapuri_uri_dict[\"homework_expired\"])\n",
    "WebDriverWait(driver, timeout=4).until(\n",
    "    lambda d: d.find_elements(\n",
    "        by=By.CSS_SELECTOR, value=\"[class*=BasicTemplate__Body]\")\n",
    ")\n",
    "\n",
    "try:\n",
    "    is_expired_homework_empty = WebDriverWait(driver, timeout=4).until(\n",
    "        lambda d: d.find_elements(\n",
    "            by=By.CSS_SELECTOR, value=\"div > ul li > button\")\n",
    "    )\n",
    "except TimeoutException as err:\n",
    "    is_expired_homework_empty = []"
   ]
  },
  {
   "attachments": {},
   "cell_type": "markdown",
   "metadata": {},
   "source": [
    "残りの課題の数を表示"
   ]
  },
  {
   "cell_type": "code",
   "execution_count": 58,
   "metadata": {},
   "outputs": [
    {
     "name": "stdout",
     "output_type": "stream",
     "text": [
      "0 7\n"
     ]
    }
   ],
   "source": [
    "print(len(is_active_homework_empty),len(is_expired_homework_empty))\n"
   ]
  },
  {
   "attachments": {},
   "cell_type": "markdown",
   "metadata": {},
   "source": [
    "最初の課題を実行"
   ]
  },
  {
   "cell_type": "code",
   "execution_count": 59,
   "metadata": {},
   "outputs": [],
   "source": [
    "first_taskwork = driver.find_element(\n",
    "    by=By.CSS_SELECTOR, value='button[class*=\"TodoCard\"]')\n",
    "first_taskwork.click()\n",
    "\n",
    "first_todo = driver.find_element(\n",
    "    by=By.CSS_SELECTOR, value=\"div > ul li div > ul > li\")\n",
    "first_todo.click()"
   ]
  },
  {
   "cell_type": "code",
   "execution_count": 60,
   "metadata": {},
   "outputs": [],
   "source": [
    "def quession_automation() -> None:\n",
    "    \"\"\"確認問題をランダムに解く\n",
    "    \"\"\"\n",
    "    driver.execute_script(\"\"\"\n",
    "    var shuffleArray = (array) => {\n",
    "            const cloneArray = [...array];\n",
    "            for (let i = cloneArray.length - 1; i >= 0; i--) {\n",
    "                let rand = Math.floor(Math.random() * (i + 1));\n",
    "                let tmpStorage = cloneArray[i];\n",
    "                cloneArray[i] = cloneArray[rand];\n",
    "                cloneArray[rand] = tmpStorage;\n",
    "            }\n",
    "            return cloneArray;\n",
    "        };\n",
    "        \n",
    "        setTimeout(() => {\n",
    "            shuffleArray(document.querySelectorAll(\"[class*=TopicsPage__Main]  button\") )\n",
    "                .forEach(each => each.click());\n",
    "        },1000)\n",
    "        setTimeout(()=>{\n",
    "            document.querySelector('button[class*=RaisedButton]').click();\n",
    "        },1500)\n",
    "    \"\"\")\n",
    "    find_element = driver.find_elements(\n",
    "        by=By.CSS_SELECTOR, value=\"[class*=RaisedButton]\")\n",
    "\n",
    "    while(not driver.current_url.endswith(\"result\")):\n",
    "        quession_automation()\n",
    "        time.sleep(0.5)\n",
    "    print(\"Quiz compreat.\")"
   ]
  },
  {
   "attachments": {},
   "cell_type": "markdown",
   "metadata": {},
   "source": [
    "各チャプタのタブを開く"
   ]
  },
  {
   "cell_type": "code",
   "execution_count": 61,
   "metadata": {},
   "outputs": [
    {
     "name": "stdout",
     "output_type": "stream",
     "text": [
      "https://learn.studysapuri.jp/ja/assignments/64738a6eb2a3f42a31765384/topics/578dd8f39c1cfd001a0001b1/questions/10\n",
      "Quiz compreat.\n"
     ]
    }
   ],
   "source": [
    "WebDriverWait(driver, timeout=4).until(lambda d: d.find_element(\n",
    "    by=By.CSS_SELECTOR, value='ul[class*=\"LessonStepList\"] > li > a')\n",
    ")\n",
    "\n",
    "after_second_lesston_list = map(lambda element: element.get_attribute(\"href\"), driver.find_elements(\n",
    "    by=By.CSS_SELECTOR, value='ul[class*=\"LessonStepList\"] > li > a'))\n",
    "\n",
    "devtools.network.set_blocked_ur_ls(\n",
    "    urls=[\"https://mediacdn.studysapuri.jp/media/**/*\"])\n",
    "i = 0\n",
    "\n",
    "try:\n",
    "\n",
    "    for href in list(after_second_lesston_list):\n",
    "        driver.switch_to.new_window(\"tab\")\n",
    "        driver.get(href)\n",
    "\n",
    "        if \"questions\" in href.split(\"/\"):\n",
    "            print(href)\n",
    "            quession_automation()\n",
    "\n",
    "        driver.execute_script(\"\"\"\n",
    "            setTimeout(() => {\n",
    "                document.querySelector(\"video\").volume = 0;\n",
    "                document.querySelector(\"[class*=hugereplaybutton]\").click();\n",
    "                document.querySelector(\"video\").play();\n",
    "                document.querySelector(\"video\").playbackRate = 16;\n",
    "                console.log(\"RUN\");\n",
    "            },1700)\n",
    "            \"\"\")\n",
    "\n",
    "except:\n",
    "    pass\n",
    "finally:\n",
    "    driver.switch_to.window(original_window)\n"
   ]
  },
  {
   "cell_type": "code",
   "execution_count": 43,
   "metadata": {},
   "outputs": [
    {
     "ename": "NoSuchWindowException",
     "evalue": "Message: Browsing context has been discarded\nStacktrace:\nRemoteError@chrome://remote/content/shared/RemoteError.sys.mjs:8:8\nWebDriverError@chrome://remote/content/shared/webdriver/Errors.sys.mjs:183:5\nNoSuchWindowError@chrome://remote/content/shared/webdriver/Errors.sys.mjs:468:5\nassert.that/<@chrome://remote/content/shared/webdriver/Assert.sys.mjs:485:13\nassert.open@chrome://remote/content/shared/webdriver/Assert.sys.mjs:147:4\nGeckoDriver.prototype.getWindowHandle@chrome://remote/content/marionette/driver.sys.mjs:1026:15\ndespatch@chrome://remote/content/marionette/server.sys.mjs:304:40\nexecute@chrome://remote/content/marionette/server.sys.mjs:275:16\nonPacket/<@chrome://remote/content/marionette/server.sys.mjs:248:20\nonPacket@chrome://remote/content/marionette/server.sys.mjs:249:9\n_onJSONObjectReady/<@chrome://remote/content/marionette/transport.sys.mjs:496:20\n",
     "output_type": "error",
     "traceback": [
      "\u001b[1;31m---------------------------------------------------------------------------\u001b[0m",
      "\u001b[1;31mNoSuchWindowException\u001b[0m                     Traceback (most recent call last)",
      "File \u001b[1;32mc:\\Python311\\Lib\\site-packages\\selenium\\webdriver\\remote\\switch_to.py:138\u001b[0m, in \u001b[0;36mSwitchTo._w3c_window\u001b[1;34m(self, window_name)\u001b[0m\n\u001b[0;32m    136\u001b[0m \u001b[39mtry\u001b[39;00m:\n\u001b[0;32m    137\u001b[0m     \u001b[39m# Try using it as a handle first.\u001b[39;00m\n\u001b[1;32m--> 138\u001b[0m     send_handle(window_name)\n\u001b[0;32m    139\u001b[0m \u001b[39mexcept\u001b[39;00m NoSuchWindowException:\n\u001b[0;32m    140\u001b[0m     \u001b[39m# Check every window to try to find the given window name.\u001b[39;00m\n",
      "File \u001b[1;32mc:\\Python311\\Lib\\site-packages\\selenium\\webdriver\\remote\\switch_to.py:134\u001b[0m, in \u001b[0;36mSwitchTo._w3c_window.<locals>.send_handle\u001b[1;34m(h)\u001b[0m\n\u001b[0;32m    133\u001b[0m \u001b[39mdef\u001b[39;00m \u001b[39msend_handle\u001b[39m(h):\n\u001b[1;32m--> 134\u001b[0m     \u001b[39mself\u001b[39;49m\u001b[39m.\u001b[39;49m_driver\u001b[39m.\u001b[39;49mexecute(Command\u001b[39m.\u001b[39;49mSWITCH_TO_WINDOW, {\u001b[39m\"\u001b[39;49m\u001b[39mhandle\u001b[39;49m\u001b[39m\"\u001b[39;49m: h})\n",
      "File \u001b[1;32mc:\\Python311\\Lib\\site-packages\\selenium\\webdriver\\remote\\webdriver.py:346\u001b[0m, in \u001b[0;36mWebDriver.execute\u001b[1;34m(self, driver_command, params)\u001b[0m\n\u001b[0;32m    345\u001b[0m \u001b[39mif\u001b[39;00m response:\n\u001b[1;32m--> 346\u001b[0m     \u001b[39mself\u001b[39;49m\u001b[39m.\u001b[39;49merror_handler\u001b[39m.\u001b[39;49mcheck_response(response)\n\u001b[0;32m    347\u001b[0m     response[\u001b[39m\"\u001b[39m\u001b[39mvalue\u001b[39m\u001b[39m\"\u001b[39m] \u001b[39m=\u001b[39m \u001b[39mself\u001b[39m\u001b[39m.\u001b[39m_unwrap_value(response\u001b[39m.\u001b[39mget(\u001b[39m\"\u001b[39m\u001b[39mvalue\u001b[39m\u001b[39m\"\u001b[39m, \u001b[39mNone\u001b[39;00m))\n",
      "File \u001b[1;32mc:\\Python311\\Lib\\site-packages\\selenium\\webdriver\\remote\\errorhandler.py:245\u001b[0m, in \u001b[0;36mErrorHandler.check_response\u001b[1;34m(self, response)\u001b[0m\n\u001b[0;32m    244\u001b[0m     \u001b[39mraise\u001b[39;00m exception_class(message, screen, stacktrace, alert_text)  \u001b[39m# type: ignore[call-arg]  # mypy is not smart enough here\u001b[39;00m\n\u001b[1;32m--> 245\u001b[0m \u001b[39mraise\u001b[39;00m exception_class(message, screen, stacktrace)\n",
      "\u001b[1;31mNoSuchWindowException\u001b[0m: Message: Unable to locate window: 285a6e94-f402-4640-905a-75ec61658074\nStacktrace:\nRemoteError@chrome://remote/content/shared/RemoteError.sys.mjs:8:8\nWebDriverError@chrome://remote/content/shared/webdriver/Errors.sys.mjs:183:5\nNoSuchWindowError@chrome://remote/content/shared/webdriver/Errors.sys.mjs:468:5\nGeckoDriver.prototype.switchToWindow@chrome://remote/content/marionette/driver.sys.mjs:1230:11\ndespatch@chrome://remote/content/marionette/server.sys.mjs:304:40\nexecute@chrome://remote/content/marionette/server.sys.mjs:275:16\nonPacket/<@chrome://remote/content/marionette/server.sys.mjs:248:20\nonPacket@chrome://remote/content/marionette/server.sys.mjs:249:9\n_onJSONObjectReady/<@chrome://remote/content/marionette/transport.sys.mjs:496:20\n",
      "\nDuring handling of the above exception, another exception occurred:\n",
      "\u001b[1;31mNoSuchWindowException\u001b[0m                     Traceback (most recent call last)",
      "Cell \u001b[1;32mIn[43], line 1\u001b[0m\n\u001b[1;32m----> 1\u001b[0m driver\u001b[39m.\u001b[39;49mswitch_to\u001b[39m.\u001b[39;49mwindow(original_window)\n",
      "File \u001b[1;32mc:\\Python311\\Lib\\site-packages\\selenium\\webdriver\\remote\\switch_to.py:130\u001b[0m, in \u001b[0;36mSwitchTo.window\u001b[1;34m(self, window_name)\u001b[0m\n\u001b[0;32m    119\u001b[0m \u001b[39mdef\u001b[39;00m \u001b[39mwindow\u001b[39m(\u001b[39mself\u001b[39m, window_name) \u001b[39m-\u001b[39m\u001b[39m>\u001b[39m \u001b[39mNone\u001b[39;00m:\n\u001b[0;32m    120\u001b[0m \u001b[39m    \u001b[39m\u001b[39m\"\"\"Switches focus to the specified window.\u001b[39;00m\n\u001b[0;32m    121\u001b[0m \n\u001b[0;32m    122\u001b[0m \u001b[39m    :Args:\u001b[39;00m\n\u001b[1;32m   (...)\u001b[0m\n\u001b[0;32m    128\u001b[0m \u001b[39m            driver.switch_to.window('main')\u001b[39;00m\n\u001b[0;32m    129\u001b[0m \u001b[39m    \"\"\"\u001b[39;00m\n\u001b[1;32m--> 130\u001b[0m     \u001b[39mself\u001b[39;49m\u001b[39m.\u001b[39;49m_w3c_window(window_name)\n",
      "File \u001b[1;32mc:\\Python311\\Lib\\site-packages\\selenium\\webdriver\\remote\\switch_to.py:141\u001b[0m, in \u001b[0;36mSwitchTo._w3c_window\u001b[1;34m(self, window_name)\u001b[0m\n\u001b[0;32m    138\u001b[0m     send_handle(window_name)\n\u001b[0;32m    139\u001b[0m \u001b[39mexcept\u001b[39;00m NoSuchWindowException:\n\u001b[0;32m    140\u001b[0m     \u001b[39m# Check every window to try to find the given window name.\u001b[39;00m\n\u001b[1;32m--> 141\u001b[0m     original_handle \u001b[39m=\u001b[39m \u001b[39mself\u001b[39;49m\u001b[39m.\u001b[39;49m_driver\u001b[39m.\u001b[39;49mcurrent_window_handle\n\u001b[0;32m    142\u001b[0m     handles \u001b[39m=\u001b[39m \u001b[39mself\u001b[39m\u001b[39m.\u001b[39m_driver\u001b[39m.\u001b[39mwindow_handles\n\u001b[0;32m    143\u001b[0m     \u001b[39mfor\u001b[39;00m handle \u001b[39min\u001b[39;00m handles:\n",
      "File \u001b[1;32mc:\\Python311\\Lib\\site-packages\\selenium\\webdriver\\remote\\webdriver.py:482\u001b[0m, in \u001b[0;36mWebDriver.current_window_handle\u001b[1;34m(self)\u001b[0m\n\u001b[0;32m    473\u001b[0m \u001b[39m@property\u001b[39m\n\u001b[0;32m    474\u001b[0m \u001b[39mdef\u001b[39;00m \u001b[39mcurrent_window_handle\u001b[39m(\u001b[39mself\u001b[39m) \u001b[39m-\u001b[39m\u001b[39m>\u001b[39m \u001b[39mstr\u001b[39m:\n\u001b[0;32m    475\u001b[0m \u001b[39m    \u001b[39m\u001b[39m\"\"\"Returns the handle of the current window.\u001b[39;00m\n\u001b[0;32m    476\u001b[0m \n\u001b[0;32m    477\u001b[0m \u001b[39m    :Usage:\u001b[39;00m\n\u001b[1;32m   (...)\u001b[0m\n\u001b[0;32m    480\u001b[0m \u001b[39m            driver.current_window_handle\u001b[39;00m\n\u001b[0;32m    481\u001b[0m \u001b[39m    \"\"\"\u001b[39;00m\n\u001b[1;32m--> 482\u001b[0m     \u001b[39mreturn\u001b[39;00m \u001b[39mself\u001b[39;49m\u001b[39m.\u001b[39;49mexecute(Command\u001b[39m.\u001b[39;49mW3C_GET_CURRENT_WINDOW_HANDLE)[\u001b[39m\"\u001b[39m\u001b[39mvalue\u001b[39m\u001b[39m\"\u001b[39m]\n",
      "File \u001b[1;32mc:\\Python311\\Lib\\site-packages\\selenium\\webdriver\\remote\\webdriver.py:346\u001b[0m, in \u001b[0;36mWebDriver.execute\u001b[1;34m(self, driver_command, params)\u001b[0m\n\u001b[0;32m    344\u001b[0m response \u001b[39m=\u001b[39m \u001b[39mself\u001b[39m\u001b[39m.\u001b[39mcommand_executor\u001b[39m.\u001b[39mexecute(driver_command, params)\n\u001b[0;32m    345\u001b[0m \u001b[39mif\u001b[39;00m response:\n\u001b[1;32m--> 346\u001b[0m     \u001b[39mself\u001b[39;49m\u001b[39m.\u001b[39;49merror_handler\u001b[39m.\u001b[39;49mcheck_response(response)\n\u001b[0;32m    347\u001b[0m     response[\u001b[39m\"\u001b[39m\u001b[39mvalue\u001b[39m\u001b[39m\"\u001b[39m] \u001b[39m=\u001b[39m \u001b[39mself\u001b[39m\u001b[39m.\u001b[39m_unwrap_value(response\u001b[39m.\u001b[39mget(\u001b[39m\"\u001b[39m\u001b[39mvalue\u001b[39m\u001b[39m\"\u001b[39m, \u001b[39mNone\u001b[39;00m))\n\u001b[0;32m    348\u001b[0m     \u001b[39mreturn\u001b[39;00m response\n",
      "File \u001b[1;32mc:\\Python311\\Lib\\site-packages\\selenium\\webdriver\\remote\\errorhandler.py:245\u001b[0m, in \u001b[0;36mErrorHandler.check_response\u001b[1;34m(self, response)\u001b[0m\n\u001b[0;32m    243\u001b[0m         alert_text \u001b[39m=\u001b[39m value[\u001b[39m\"\u001b[39m\u001b[39malert\u001b[39m\u001b[39m\"\u001b[39m]\u001b[39m.\u001b[39mget(\u001b[39m\"\u001b[39m\u001b[39mtext\u001b[39m\u001b[39m\"\u001b[39m)\n\u001b[0;32m    244\u001b[0m     \u001b[39mraise\u001b[39;00m exception_class(message, screen, stacktrace, alert_text)  \u001b[39m# type: ignore[call-arg]  # mypy is not smart enough here\u001b[39;00m\n\u001b[1;32m--> 245\u001b[0m \u001b[39mraise\u001b[39;00m exception_class(message, screen, stacktrace)\n",
      "\u001b[1;31mNoSuchWindowException\u001b[0m: Message: Browsing context has been discarded\nStacktrace:\nRemoteError@chrome://remote/content/shared/RemoteError.sys.mjs:8:8\nWebDriverError@chrome://remote/content/shared/webdriver/Errors.sys.mjs:183:5\nNoSuchWindowError@chrome://remote/content/shared/webdriver/Errors.sys.mjs:468:5\nassert.that/<@chrome://remote/content/shared/webdriver/Assert.sys.mjs:485:13\nassert.open@chrome://remote/content/shared/webdriver/Assert.sys.mjs:147:4\nGeckoDriver.prototype.getWindowHandle@chrome://remote/content/marionette/driver.sys.mjs:1026:15\ndespatch@chrome://remote/content/marionette/server.sys.mjs:304:40\nexecute@chrome://remote/content/marionette/server.sys.mjs:275:16\nonPacket/<@chrome://remote/content/marionette/server.sys.mjs:248:20\nonPacket@chrome://remote/content/marionette/server.sys.mjs:249:9\n_onJSONObjectReady/<@chrome://remote/content/marionette/transport.sys.mjs:496:20\n"
     ]
    }
   ],
   "source": [
    "driver.switch_to.window(original_window)"
   ]
  },
  {
   "cell_type": "code",
   "execution_count": 44,
   "metadata": {},
   "outputs": [],
   "source": [
    "driver.quit() # 終了"
   ]
  }
 ],
 "metadata": {
  "kernelspec": {
   "display_name": "Python 3",
   "language": "python",
   "name": "python3"
  },
  "language_info": {
   "codemirror_mode": {
    "name": "ipython",
    "version": 3
   },
   "file_extension": ".py",
   "mimetype": "text/x-python",
   "name": "python",
   "nbconvert_exporter": "python",
   "pygments_lexer": "ipython3",
   "version": "3.11.3"
  },
  "orig_nbformat": 4
 },
 "nbformat": 4,
 "nbformat_minor": 2
}
