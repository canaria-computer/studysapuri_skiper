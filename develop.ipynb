{
 "cells": [
  {
   "attachments": {},
   "cell_type": "markdown",
   "metadata": {},
   "source": [
    "# スタサプ RPA"
   ]
  },
  {
   "attachments": {},
   "cell_type": "markdown",
   "metadata": {},
   "source": [
    "## モジュール読み込み"
   ]
  },
  {
   "cell_type": "code",
   "execution_count": 1,
   "metadata": {},
   "outputs": [
    {
     "data": {
      "text/plain": [
       "True"
      ]
     },
     "execution_count": 1,
     "metadata": {},
     "output_type": "execute_result"
    }
   ],
   "source": [
    "# selenium 4\n",
    "import math\n",
    "import time\n",
    "import os\n",
    "from selenium import webdriver\n",
    "from selenium.webdriver.support.wait import WebDriverWait\n",
    "from selenium.webdriver.support.wait import TimeoutException\n",
    "from selenium.webdriver.support import expected_conditions\n",
    "from selenium.webdriver.firefox.service import Service as FirefoxService\n",
    "from webdriver_manager.firefox import GeckoDriverManager\n",
    "# import selenium.webdriver.common.devtools.v114 as devtools\n",
    "from selenium.webdriver.common.by import By\n",
    "# .env file load\n",
    "from dotenv import load_dotenv\n",
    "load_dotenv()"
   ]
  },
  {
   "attachments": {},
   "cell_type": "markdown",
   "metadata": {},
   "source": [
    "## インスタンスの生成\n",
    "### 実行"
   ]
  },
  {
   "cell_type": "code",
   "execution_count": 2,
   "metadata": {},
   "outputs": [],
   "source": [
    "options = webdriver.FirefoxOptions()\n",
    "# options.add_argument('--headless')\n",
    "\n",
    "driver = webdriver.Firefox(service=FirefoxService(GeckoDriverManager().install()), options=options)\n",
    "\n",
    "driver.set_window_position(0, 0)\n",
    "\n",
    "original_window = driver.current_window_handle"
   ]
  },
  {
   "attachments": {},
   "cell_type": "markdown",
   "metadata": {},
   "source": [
    "### .env 読み込み"
   ]
  },
  {
   "cell_type": "code",
   "execution_count": 3,
   "metadata": {},
   "outputs": [],
   "source": [
    "service_url = os.getenv(\"LOGIN_URL\")\n",
    "email = os.getenv(\"EMAIL_ADDRESS\")\n",
    "password = os.getenv(\"PASSWORD\")"
   ]
  },
  {
   "attachments": {},
   "cell_type": "markdown",
   "metadata": {},
   "source": [
    "### ログイン"
   ]
  },
  {
   "cell_type": "code",
   "execution_count": 4,
   "metadata": {},
   "outputs": [],
   "source": [
    "driver.get(service_url)\n",
    "username_input_element = driver.find_element(\n",
    "    by=By.XPATH, value='//*[@id=\"root\"]/div/div/div/form/div/div[2]/input')\n",
    "password_input_element = driver.find_element(\n",
    "    by=By.XPATH, value='//*[@id=\"root\"]/div/div/div/form/div/div[3]/span/input')\n",
    "login_button = driver.find_element(\n",
    "    by=By.XPATH, value='//*[@id=\"root\"]/div/div/div/form/div/button[2]/span[2]')\n",
    "\n",
    "username_input_element.clear()\n",
    "password_input_element.clear()\n",
    "username_input_element.send_keys(email)\n",
    "password_input_element.send_keys(password)\n",
    "email, password = None, None\n",
    "login_button.click()\n"
   ]
  },
  {
   "attachments": {},
   "cell_type": "markdown",
   "metadata": {},
   "source": [
    "### URL を設定"
   ]
  },
  {
   "cell_type": "code",
   "execution_count": 5,
   "metadata": {},
   "outputs": [],
   "source": [
    "studysapuri_uri_dict = {\n",
    "    \"homework_active\": \"https://learn.studysapuri.jp/ja/todos/active\",\n",
    "    \"homework_expired\": \"https://learn.studysapuri.jp/ja/todos/expired\"\n",
    "}\n"
   ]
  },
  {
   "attachments": {},
   "cell_type": "markdown",
   "metadata": {},
   "source": [
    "### 課題状況検査\n",
    "\n",
    "課題の残りの数をカウントする"
   ]
  },
  {
   "cell_type": "code",
   "execution_count": 6,
   "metadata": {},
   "outputs": [],
   "source": [
    "driver.get(studysapuri_uri_dict[\"homework_active\"])\n",
    "WebDriverWait(driver, timeout=10).until(\n",
    "    lambda d: d.find_elements(\n",
    "        by=By.CSS_SELECTOR, value=\"[class*=BasicTemplate__Body]\")\n",
    ")\n",
    "\n",
    "try:\n",
    "    is_active_homework_empty = WebDriverWait(driver, timeout=4).until(\n",
    "        lambda d: d.find_elements(\n",
    "            by=By.CSS_SELECTOR, value=\"div > ul li > button\")\n",
    "    )\n",
    "except TimeoutException as err:\n",
    "    is_active_homework_empty = []\n",
    "\n",
    "# -------------------------------------------------------------------\n",
    "\n",
    "driver.get(studysapuri_uri_dict[\"homework_expired\"])\n",
    "WebDriverWait(driver, timeout=4).until(\n",
    "    lambda d: d.find_elements(\n",
    "        by=By.CSS_SELECTOR, value=\"[class*=BasicTemplate__Body]\")\n",
    ")\n",
    "\n",
    "try:\n",
    "    is_expired_homework_empty = WebDriverWait(driver, timeout=4).until(\n",
    "        lambda d: d.find_elements(\n",
    "            by=By.CSS_SELECTOR, value=\"div > ul li > button\")\n",
    "    )\n",
    "except TimeoutException as err:\n",
    "    is_expired_homework_empty = []"
   ]
  },
  {
   "attachments": {},
   "cell_type": "markdown",
   "metadata": {},
   "source": [
    "残りの課題の数を表示"
   ]
  },
  {
   "cell_type": "code",
   "execution_count": 7,
   "metadata": {},
   "outputs": [
    {
     "name": "stdout",
     "output_type": "stream",
     "text": [
      "0 4\n"
     ]
    }
   ],
   "source": [
    "print(len(is_active_homework_empty),len(is_expired_homework_empty))"
   ]
  },
  {
   "attachments": {},
   "cell_type": "markdown",
   "metadata": {},
   "source": [
    "最初の課題を実行"
   ]
  },
  {
   "cell_type": "code",
   "execution_count": 8,
   "metadata": {},
   "outputs": [],
   "source": [
    "first_taskwork = driver.find_element(\n",
    "    by=By.CSS_SELECTOR, value='button[class*=\"TodoCard\"]')\n",
    "first_taskwork.click()\n",
    "\n",
    "first_todo = driver.find_element(\n",
    "    by=By.CSS_SELECTOR, value=\"div > ul li div > ul > li\")\n",
    "first_todo.click()"
   ]
  },
  {
   "cell_type": "code",
   "execution_count": 9,
   "metadata": {},
   "outputs": [],
   "source": [
    "tab = []\n",
    "call_count = 0"
   ]
  },
  {
   "cell_type": "code",
   "execution_count": 10,
   "metadata": {},
   "outputs": [],
   "source": [
    "def quession_automation() -> None:\n",
    "    \"\"\"確認問題をランダムに解く\n",
    "    \"\"\"\n",
    "    global call_count\n",
    "    call_count += 1\n",
    "    driver.execute_script(\"\"\"\n",
    "    var shuffleArray = (array) => {\n",
    "            const cloneArray = [...array];\n",
    "            for (let i = cloneArray.length - 1; i >= 0; i--) {\n",
    "                let rand = Math.floor(Math.random() * (i + 1));\n",
    "                let tmpStorage = cloneArray[i];\n",
    "                cloneArray[i] = cloneArray[rand];\n",
    "                cloneArray[rand] = tmpStorage;\n",
    "            }\n",
    "            return cloneArray;\n",
    "        };\n",
    "\n",
    "        setTimeout(() => {\n",
    "            shuffleArray(document.querySelectorAll(\n",
    "                \"[class*=TopicsPage__Main]  button\") )\n",
    "                .forEach(each => each.click());\n",
    "        },1000)\n",
    "        setTimeout(()=>{\n",
    "            document.querySelector('button[class*=RaisedButton]').click();\n",
    "        },1500)\n",
    "    \"\"\")\n",
    "    # 待機\n",
    "    button = WebDriverWait(driver, timeout=10).until(\n",
    "        lambda d: d.find_element(\n",
    "            by=By.CSS_SELECTOR, value=\"[class*=RaisedButton]\")\n",
    "    )\n",
    "\n",
    "    # ボタンの有効化待ち\n",
    "    WebDriverWait(driver, timeout=5).until(expected_conditions.element_to_be_clickable(\n",
    "        (By.CSS_SELECTOR, \"[class*=RaisedButton]\")\n",
    "    ))\n",
    "\n",
    "    # 完全ロード待ち\n",
    "    WebDriverWait(driver, timeout=20).until(\n",
    "        expected_conditions.presence_of_all_elements_located)\n",
    "\n",
    "    if button.text == \"再読み込み\":\n",
    "        time.sleep(2)\n",
    "\n",
    "    while(not driver.current_url.endswith(\"result\")):\n",
    "        time.sleep(1 + math.sqrt(call_count))\n",
    "        try:\n",
    "            quession_automation()\n",
    "        except:\n",
    "            print(\"ERR: Retry...\")\n",
    "    print(\"Quiz compreat.\")\n"
   ]
  },
  {
   "attachments": {},
   "cell_type": "markdown",
   "metadata": {},
   "source": [
    "各チャプタのタブを開く"
   ]
  },
  {
   "cell_type": "code",
   "execution_count": 12,
   "metadata": {},
   "outputs": [
    {
     "name": "stdout",
     "output_type": "stream",
     "text": [
      "https://learn.studysapuri.jp/ja/assignments/646de2622f868b0714676d40/topics/578dd8099c1cfd001d00018d/questions/1\n",
      "ERR: Retry...\n",
      "ERR: Retry...\n",
      "ERR: Retry...\n",
      "ERR: Retry...\n",
      "ERR: Retry...\n",
      "ERR: Retry...\n",
      "ERR: Retry...\n",
      "ERR: Retry...\n",
      "ERR: Retry...\n",
      "Quiz compreat.\n",
      "Quiz compreat.\n",
      "Quiz compreat.\n",
      "Quiz compreat.\n",
      "Quiz compreat.\n",
      "Timeout Err\n",
      "Message: \n",
      "Stacktrace:\n",
      "RemoteError@chrome://remote/content/shared/RemoteError.sys.mjs:8:8\n",
      "WebDriverError@chrome://remote/content/shared/webdriver/Errors.sys.mjs:183:5\n",
      "NoSuchElementError@chrome://remote/content/shared/webdriver/Errors.sys.mjs:395:5\n",
      "element.find/</<@chrome://remote/content/marionette/element.sys.mjs:134:16\n",
      "\n"
     ]
    }
   ],
   "source": [
    "WebDriverWait(driver, timeout=4).until(lambda d: d.find_element(\n",
    "    by=By.CSS_SELECTOR, value='ul[class*=\"LessonStepList\"] > li > a')\n",
    ")\n",
    "\n",
    "after_second_lesston_list = map(lambda element: element.get_attribute(\"href\"), driver.find_elements(\n",
    "    by=By.CSS_SELECTOR, value='ul[class*=\"LessonStepList\"] > li > a'))\n",
    "\n",
    "i = 0\n",
    "\n",
    "try:\n",
    "    for href in list(after_second_lesston_list):\n",
    "        driver.switch_to.new_window(\"tab\")\n",
    "        tab.append(driver.current_window_handle)\n",
    "        driver.get(href)\n",
    "\n",
    "        if \"questions\" in href.split(\"/\"):\n",
    "            print(href)\n",
    "            quession_automation()\n",
    "\n",
    "        # video wait\n",
    "        WebDriverWait(driver, timeout=4).until(\n",
    "            lambda d: d.find_element(\n",
    "                by=By.TAG_NAME, value=\"video\")\n",
    "        )\n",
    "        WebDriverWait(driver,timeout=4).until(\n",
    "            lambda d: d.find_element(\n",
    "                by=By.CSS_SELECTOR, value=\"[class*=hugereplaybutton]\")            \n",
    "        )\n",
    "\n",
    "        driver.execute_script('document.querySelector(\"video\").volume = 0;')\n",
    "        driver.execute_script(\n",
    "            'document.querySelector(\"video\").playbackRate = 16;')\n",
    "        driver.execute_script(\n",
    "            'document.querySelector(\"button[class*=bmpui]\").click();')\n",
    "        driver.execute_script('setTimeout(()=>document.querySelector(\"video\").play(), 1000);')\n",
    "        driver.execute_script('console.log(\"RUN\");')\n",
    "        time.sleep(1)\n",
    "\n",
    "except TimeoutException as err:\n",
    "    print(\"Timeout Err\")\n",
    "    print(err)\n",
    "finally:\n",
    "    driver.switch_to.window(original_window)\n"
   ]
  },
  {
   "cell_type": "code",
   "execution_count": 13,
   "metadata": {},
   "outputs": [
    {
     "name": "stdout",
     "output_type": "stream",
     "text": [
      "0\n",
      "1\n",
      "2\n",
      "3\n",
      "4\n",
      "5\n",
      "6\n",
      "7\n",
      "8\n",
      "9\n",
      "10\n",
      "11\n",
      "12\n",
      "13\n",
      "14\n",
      "15\n",
      "16\n",
      "17\n",
      "18\n",
      "19\n",
      "20\n",
      "21\n",
      "22\n",
      "23\n",
      "24\n",
      "25\n",
      "26\n",
      "27\n",
      "28\n",
      "29\n"
     ]
    }
   ],
   "source": [
    "driver.switch_to.window(original_window)\n",
    "for i in range(1, 30+1):\n",
    "    print(i)\n",
    "    time.sleep(1)\n",
    "\n",
    "for t in tab:\n",
    "    driver.switch_to.window(t)\n",
    "    driver.close()\n",
    "\n",
    "driver.switch_to.window(original_window)\n"
   ]
  },
  {
   "cell_type": "code",
   "execution_count": 14,
   "metadata": {},
   "outputs": [],
   "source": [
    "driver.quit() # 終了"
   ]
  }
 ],
 "metadata": {
  "kernelspec": {
   "display_name": "Python 3",
   "language": "python",
   "name": "python3"
  },
  "language_info": {
   "codemirror_mode": {
    "name": "ipython",
    "version": 3
   },
   "file_extension": ".py",
   "mimetype": "text/x-python",
   "name": "python",
   "nbconvert_exporter": "python",
   "pygments_lexer": "ipython3",
   "version": "3.11.3"
  },
  "orig_nbformat": 4
 },
 "nbformat": 4,
 "nbformat_minor": 2
}
